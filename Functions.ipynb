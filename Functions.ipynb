{
  "nbformat": 4,
  "nbformat_minor": 0,
  "metadata": {
    "colab": {
      "provenance": []
    },
    "kernelspec": {
      "name": "python3",
      "display_name": "Python 3"
    },
    "language_info": {
      "name": "python"
    }
  },
  "cells": [
    {
      "cell_type": "markdown",
      "source": [
        "# Functions"
      ],
      "metadata": {
        "id": "KcQG8BZ6IKht"
      }
    },
    {
      "cell_type": "markdown",
      "source": [
        "1. What is the difference between a function and a method in Python?\n",
        "  - Functions can be called only by it's name as it is defined independently. But Methods can't be called by it's name only, we need to invoke the class by a reference in which it is defined, i.e. method is defined within a class and hence they are dependent on that class.\n",
        "  Example - While calling a function def add(x, y): return x+y.\n",
        "  While calling a method class dog: def bark(self): print(Woof!)\n",
        "\n",
        "2. Explain the concept of function arguments and parameters in Python.\n",
        "  - In python, Parameters are placeholders defined in a function's definition, while arguments are actual values passed to the functions when it is called.\n",
        "  Example -\n",
        "            def add(x, y) # x and y are parameters\n",
        "              return X + y\n",
        "\n",
        "              result = add(5, 3) # 5 and 3 are arguments\n",
        "              print(result) #Output: 8\n",
        "\n",
        "3. What are the different ways to define and call a function in Python?\n",
        "  - In python, you define a function using def keyword, followed by the function name, parentheses for parameters, a colon and an intended code block. You can call a Function by writting it's name followed by parentheses, optionally including arguments. Example -\n",
        "     Defining a Function:\n",
        "           def greet(name) #define a function named 'greet' with a parameter 'name'\n",
        "           \"\"\"\n",
        "           This function greets the person passed in as an argument\n",
        "           \"\"\"\n",
        "           print(f\"Hello, {name}!\") # Function body: prints a greeting\n",
        "    Calling a Function:\n",
        "           greet(\"Alice\")  # Call the 'greet' function with the argument \"Alice\"\n",
        "\n",
        "4. What is the purpose of the `return` statement in a Python function?\n",
        "  - The Python return statement marks the end of a function and specifies the value or values to pass back from the function. Return statements can return data of any type, including integers, floats, strings, lists, dictionaries, and even other functions. Example -\n",
        "         def add_numbers(x, y):\n",
        "          \"\"\"\n",
        "          This function takes two numbers as input and returns their sum.\n",
        "          \"\"\"\n",
        "          sum_result = x + y\n",
        "          return sum_result  # Return the calculated sum\n",
        "\n",
        " Call the function and store the returned value\n",
        "         result = add_numbers(5, 3)\n",
        "         print(result)  # Output: 8\n",
        "\n",
        "5. What are iterators in Python and how do they differ from iterables?\n",
        "  - Iterable is an object, that one can iterate over. It generates an Iterator when passed to iter() method. An iterator is an object, which is used to iterate over an iterable object using the __next__() method. Iterators have the __next__() method, which returns the next item of the object.\n",
        "\n",
        "6. Explain the concept of generators in Python and how they are defined.\n",
        "  - In Python, a generator is a special type of function that produces a sequence of values lazily, meaning it generates values on demand, one at a time, rather than storing them all in memory at once, using the yield keyword instead of return. Example -\n",
        "\n",
        "         def my_generator(n):\n",
        "         \"\"\"\n",
        "         A generator function that yields numbers from 0 to n-1.\n",
        "         \"\"\"\n",
        "         i = 0\n",
        "         while i < n:\n",
        "         yield i  # Yield a value\n",
        "         i += 1\n",
        "\n",
        "     Create a generator object\n",
        "         my_gen = my_generator(5)\n",
        "\n",
        "     Iterate over the generator\n",
        "         for value in my_gen:\n",
        "         print(value)  # Output: 0 1 2 3 4\n",
        "\n",
        "7. What are the advantages of using generators over regular functions?\n",
        "  - Generators offer memory efficiency and lazy evaluation compared to regular functions, producing values on demand rather than storing the entire sequence in memory, making them ideal for large datasets or infinite sequences. Example -\n",
        "          def get_squares(n):\n",
        "        squares = []\n",
        "        for i in range(n):\n",
        "            squares.append(i**2)\n",
        "        return squares\n",
        "\n",
        "         This function creates a list in memory to store all the squares\n",
        "         squares_list = get_squares(1000)\n",
        "\n",
        "8. What is a lambda function in Python and when is it typically used?\n",
        "  - lambda is a keyword in Python for defining the anonymous function. argument(s) is a placeholder, that is a variable that will be used to hold the value you want to pass into the function expression. A lambda function can have multiple variables depending on what you want to achieve. Example -\n",
        "      Using a lambda function to square a number  \n",
        "         square = lambda x: x**2\n",
        "          print(square(5))  # Output: 25\n",
        "\n",
        "      Using a lambda function with map() to square each number in a list\n",
        "          numbers = [1, 2, 3, 4, 5]\n",
        "          squared_numbers = list(map(lambda x: x**2, numbers))\n",
        "          print(squared_numbers)  # Output: [1, 4, 9, 16, 25\n",
        "        \n",
        "      Using a lambda function with filter() to get even numbers\n",
        "          even_numbers = list(filter(lambda x: x % 2 == 0, numbers))\n",
        "          print(even_numbers) # Output: [2, 4]\n",
        "\n",
        "      Using a lambda function with sorted() to sort a list of tuples by the second element\n",
        "          points = [(1, 2), (3, 1), (2, 3)]\n",
        "          sorted_points = sorted(points, key=lambda x: x[1])\n",
        "          print(sorted_points) # Output: [(3, 1), (1, 2), (2, 3)]\n",
        "\n",
        "9. Explain the purpose and usage of the `map()` function in Python.\n",
        "  - The map() function in Python applies a given function to each item of an iterable (like a list, tuple, or string) and returns an iterator that yields the results. It's a concise way to transform data without using explicit loops. Example - define a function to square a number\n",
        "          def square(x):\n",
        "          return x*x\n",
        "\n",
        "          numbers = [1, 2, 3, 4, 5] #create a list of numbers\n",
        "          squared_numbers = map(square, numbers) #Use map() to square each number\n",
        "          print(list(squared_numbers)) #Output : [1, 4, 9, 16, 25]\n",
        "\n",
        "10. What is the difference between `map()`, `reduce()`, and `filter()` functions in Python?\n",
        "  - 'Map' applies a function to each element in an array and returns an array of the results, 'Reduce' applies a function to the array and returns a single output, 'Filter' uses a boolean function to select certain elements from an array.\n",
        "\n",
        "11. Using pen & Paper write the internal mechanism for sum operation using  reduce function on this given\n",
        "list:[47,11,42,13].\n",
        "  - Internal mechanism of reduce for sum operation:\n",
        "  1.Initial Setup: You first need to import the reduce function from the functools module.\n",
        "           from functools import reduce\n",
        "\n",
        "\n",
        "  2.The Function to apply: In this case, we are summing the elements of the list, so the binary function we will use is simply addition operator(+).\n",
        "\n",
        "  3.How reduce work internally: reduce take two arguments. 1. A function to apply to the elements of the list, 2. the iterable (list) itself.\n",
        "\n",
        "  The process happen as follows -\n",
        "  a. Start with the first two elements : 47 and 11\n",
        "  b. Apply function : 47 + 11 = 58. 58 stored as intermediate result.\n",
        "  c. Next, intermediate result (58) is added to the third element, 42 and this results in 100(58+42).\n",
        "  d. Finally, 100 is added to the last element, 13. This results in 113(100+13).\n",
        "  e. The reduce function returns 113, which is the sum of this [47,11,42,13]."
      ],
      "metadata": {
        "id": "_BJmZrFZIOYj"
      }
    },
    {
      "cell_type": "code",
      "source": [
        "#1.  Write a Python function that takes a list of numbers as input and returns the sum of all even numbers in the list.\n",
        "\n",
        "def sum_even_numbers(numbers):\n",
        "\n",
        "    return sum(num for num in numbers if num % 2 == 0)\n",
        "\n",
        "test_list = [1, 2, 3, 4, 5, 6]\n",
        "result = sum_even_numbers(test_list)\n",
        "print(result);\n",
        "\n",
        "print(sum_even_numbers([1, 3, 5]));\n",
        "print(sum_even_numbers([2, 4, 6]));\n",
        "print(sum_even_numbers([]));"
      ],
      "metadata": {
        "colab": {
          "base_uri": "https://localhost:8080/"
        },
        "id": "8AwdtJxLU6Xa",
        "outputId": "95f7790b-a3fb-45b8-e35b-ceb5056233cd"
      },
      "execution_count": 1,
      "outputs": [
        {
          "output_type": "stream",
          "name": "stdout",
          "text": [
            "12\n",
            "0\n",
            "12\n",
            "0\n"
          ]
        }
      ]
    },
    {
      "cell_type": "code",
      "source": [
        "#2. Create a Python function that accepts a string and returns the reverse of that string.\n",
        "\n",
        "def reverse_string(input_string):\n",
        "    return input_string[::-1]\n",
        "\n",
        "result = reverse_string(\"hello\")\n",
        "print(result);\n"
      ],
      "metadata": {
        "colab": {
          "base_uri": "https://localhost:8080/"
        },
        "id": "z83FaR9sVWul",
        "outputId": "70e9b427-69d6-439b-e57c-54e378f1c530"
      },
      "execution_count": 2,
      "outputs": [
        {
          "output_type": "stream",
          "name": "stdout",
          "text": [
            "olleh\n"
          ]
        }
      ]
    },
    {
      "cell_type": "code",
      "source": [
        "#3. Implement a Python function that takes a list of integers and returns a new list containing the squares of each number.\n",
        "\n",
        "def square_numbers(input_list):\n",
        "    return [x ** 2 for x in input_list]\n",
        "\n",
        "numbers = [1, 2, 3, 4, 5]\n",
        "squared_numbers = square_numbers(numbers)\n",
        "print(squared_numbers);\n"
      ],
      "metadata": {
        "colab": {
          "base_uri": "https://localhost:8080/"
        },
        "id": "t5qnqCxjVv17",
        "outputId": "e2a1de7b-51a5-4c93-b477-4427b6ea2f5c"
      },
      "execution_count": 3,
      "outputs": [
        {
          "output_type": "stream",
          "name": "stdout",
          "text": [
            "[1, 4, 9, 16, 25]\n"
          ]
        }
      ]
    },
    {
      "cell_type": "code",
      "source": [
        "#4. Write a Python function that checks if a given number is prime or not from 1 to 200.\n",
        "\n",
        "def is_prime(number):\n",
        "    if number <= 1:\n",
        "        return False\n",
        "    for i in range(2, int(number**0.5) + 1):\n",
        "        if number % i == 0:\n",
        "            return False\n",
        "    return True\n",
        "\n",
        "for num in range(1, 201):\n",
        "    if is_prime(num):\n",
        "        print(num)\n"
      ],
      "metadata": {
        "colab": {
          "base_uri": "https://localhost:8080/"
        },
        "id": "hUoxBVBiWR45",
        "outputId": "e6916d99-486d-491b-e64e-6054a79acd0f"
      },
      "execution_count": 4,
      "outputs": [
        {
          "output_type": "stream",
          "name": "stdout",
          "text": [
            "2\n",
            "3\n",
            "5\n",
            "7\n",
            "11\n",
            "13\n",
            "17\n",
            "19\n",
            "23\n",
            "29\n",
            "31\n",
            "37\n",
            "41\n",
            "43\n",
            "47\n",
            "53\n",
            "59\n",
            "61\n",
            "67\n",
            "71\n",
            "73\n",
            "79\n",
            "83\n",
            "89\n",
            "97\n",
            "101\n",
            "103\n",
            "107\n",
            "109\n",
            "113\n",
            "127\n",
            "131\n",
            "137\n",
            "139\n",
            "149\n",
            "151\n",
            "157\n",
            "163\n",
            "167\n",
            "173\n",
            "179\n",
            "181\n",
            "191\n",
            "193\n",
            "197\n",
            "199\n"
          ]
        }
      ]
    },
    {
      "cell_type": "code",
      "source": [
        "#5. Create an iterator class in Python that generates the Fibonacci sequence up to a specified number of terms.\n",
        "\n",
        "class FibonacciIterator:\n",
        "    def __init__(self, n):\n",
        "        self.n = n\n",
        "        self.a, self.b = 0, 1\n",
        "        self.count = 0\n",
        "\n",
        "    def __iter__(self):\n",
        "        return self\n",
        "\n",
        "    def __next__(self):\n",
        "        if self.count < self.n:\n",
        "            fib_number = self.a\n",
        "            self.a, self.b = self.b, self.a + self.b\n",
        "            self.count += 1\n",
        "            return fib_number\n",
        "        else:\n",
        "            raise StopIteration\n",
        "\n",
        "fib = FibonacciIterator(10)\n",
        "for num in fib:\n",
        "    print(num);\n"
      ],
      "metadata": {
        "colab": {
          "base_uri": "https://localhost:8080/"
        },
        "id": "embP4iZYWwIR",
        "outputId": "8cc32478-2170-4b82-fcc7-876e2c59a968"
      },
      "execution_count": 5,
      "outputs": [
        {
          "output_type": "stream",
          "name": "stdout",
          "text": [
            "0\n",
            "1\n",
            "1\n",
            "2\n",
            "3\n",
            "5\n",
            "8\n",
            "13\n",
            "21\n",
            "34\n"
          ]
        }
      ]
    },
    {
      "cell_type": "code",
      "source": [
        "#6. Write a generator function in Python that yields the powers of 2 up to a given exponent.\n",
        "\n",
        "def powers_of_two(exponent):\n",
        "    for i in range(exponent + 1):\n",
        "        yield 2 ** i\n",
        "\n",
        "for power in powers_of_two(5):\n",
        "    print(power);"
      ],
      "metadata": {
        "colab": {
          "base_uri": "https://localhost:8080/"
        },
        "id": "-9tFVxbxXRw8",
        "outputId": "244ddd35-85e8-4624-e2fb-e489c5997a99"
      },
      "execution_count": 6,
      "outputs": [
        {
          "output_type": "stream",
          "name": "stdout",
          "text": [
            "1\n",
            "2\n",
            "4\n",
            "8\n",
            "16\n",
            "32\n"
          ]
        }
      ]
    },
    {
      "cell_type": "code",
      "source": [
        "#7. Implement a generator function that reads a file line by line and yields each line as a string.\n",
        "\n",
        "def read_file_line_by_line(file_path):\n",
        "\n",
        "    try:\n",
        "        with open(file_path, 'r') as file:\n",
        "            for line in file:\n",
        "                yield line\n",
        "    except FileNotFoundError:\n",
        "        print(f\"File not found: {file_path}. Please make sure the file exists and the path is correct.\")\n",
        "        return\n",
        "\n",
        "file_path = 'example.txt'\n",
        "\n",
        "try:\n",
        "    for line in read_file_line_by_line(file_path):\n",
        "        print(line, end='');\n",
        "except FileNotFoundError:\n",
        "    print(f\"The file '{file_path}' was not found.\");"
      ],
      "metadata": {
        "colab": {
          "base_uri": "https://localhost:8080/"
        },
        "id": "0bBWmX2RXm-Q",
        "outputId": "50cfdb6c-1080-4e48-d376-8291b5af094b"
      },
      "execution_count": 12,
      "outputs": [
        {
          "output_type": "stream",
          "name": "stdout",
          "text": [
            "File not found: example.txt. Please make sure the file exists and the path is correct.\n"
          ]
        }
      ]
    },
    {
      "cell_type": "code",
      "source": [
        "#8. Use a lambda function in Python to sort a list of tuples based on the second element of each tuple.\n",
        "\n",
        "data = [(1, 3), (4, 1), (2, 2), (5, 4)]\n",
        "\n",
        "sorted_data = sorted(data, key=lambda x: x[1])\n",
        "\n",
        "print(sorted_data);\n"
      ],
      "metadata": {
        "colab": {
          "base_uri": "https://localhost:8080/"
        },
        "id": "UTd-K1hHZhu7",
        "outputId": "6218ae80-2d4d-40d3-9eab-8616370a14b3"
      },
      "execution_count": 13,
      "outputs": [
        {
          "output_type": "stream",
          "name": "stdout",
          "text": [
            "[(4, 1), (2, 2), (1, 3), (5, 4)]\n"
          ]
        }
      ]
    },
    {
      "cell_type": "code",
      "source": [
        "#9. Write a Python program that uses `map()` to convert a list of temperatures from Celsius to Fahrenheit.\n",
        "\n",
        "def celsius_to_fahrenheit(celsius):\n",
        "    return (celsius * 9/5) + 32\n",
        "\n",
        "celsius_temps = [0, 20, 25, 30, 35, 40]\n",
        "\n",
        "fahrenheit_temps = list(map(celsius_to_fahrenheit, celsius_temps))\n",
        "\n",
        "print(fahrenheit_temps);"
      ],
      "metadata": {
        "colab": {
          "base_uri": "https://localhost:8080/"
        },
        "id": "3Ac2OgXXZ7gH",
        "outputId": "15efa21c-e10b-4ee5-872d-a69f83e6bb63"
      },
      "execution_count": 14,
      "outputs": [
        {
          "output_type": "stream",
          "name": "stdout",
          "text": [
            "[32.0, 68.0, 77.0, 86.0, 95.0, 104.0]\n"
          ]
        }
      ]
    },
    {
      "cell_type": "code",
      "source": [
        "#10.  Create a Python program that uses `filter()` to remove all the vowels from a given string.\n",
        "\n",
        "def is_not_vowel(char):\n",
        "    return char.lower() not in 'aeiou'\n",
        "\n",
        "input_string = \"Hello, World!\"\n",
        "\n",
        "filtered_string = ''.join(filter(is_not_vowel, input_string))\n",
        "\n",
        "print(filtered_string);"
      ],
      "metadata": {
        "colab": {
          "base_uri": "https://localhost:8080/"
        },
        "id": "ZJ0Vz6dvaVF6",
        "outputId": "5bac7eb0-812e-4afd-c355-3fbe6ccdd273"
      },
      "execution_count": 15,
      "outputs": [
        {
          "output_type": "stream",
          "name": "stdout",
          "text": [
            "Hll, Wrld!\n"
          ]
        }
      ]
    },
    {
      "cell_type": "code",
      "source": [
        "#11.  Imagine an accounting routine used in a book shop. It works on a list with sublists, which look like this:\n",
        "\n",
        "\n",
        "orders = [\n",
        "    [\"34587\", \"Learning Python, Mark Lutz\", 4, 40.95],\n",
        "    [\"98762\", \"Programming Python, Mark Lutz\", 5, 56.80],\n",
        "    [77226, \"Head First Python, Paul Barry\", 3, 32.95],\n",
        "    [88112, \"Einführung in Python3, Bernd Klein\", 3, 24.99],\n",
        "]\n",
        "\n",
        "result = list(map(lambda x: (x[0], x[2] * x[3] + 10 if (x[2] * x[3]) < 100 else (x[2] * x[3])), book_list))\n",
        "print(result);"
      ],
      "metadata": {
        "id": "5xu-u8rZlIn8"
      },
      "execution_count": null,
      "outputs": []
    }
  ]
}